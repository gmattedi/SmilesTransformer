{
 "cells": [
  {
   "cell_type": "code",
   "execution_count": 1,
   "id": "02f69324-448d-4892-96f3-8505e16cb2aa",
   "metadata": {},
   "outputs": [
    {
     "name": "stdout",
     "output_type": "stream",
     "text": [
      "time: 128 µs (started: 2022-06-25 11:02:32 +01:00)\n"
     ]
    }
   ],
   "source": [
    "%load_ext autotime"
   ]
  },
  {
   "cell_type": "code",
   "execution_count": 2,
   "id": "73242702-332b-4037-afe3-98779b66c9db",
   "metadata": {},
   "outputs": [
    {
     "name": "stderr",
     "output_type": "stream",
     "text": [
      "/home/giulio/.miniconda3/envs/main/lib/python3.8/site-packages/tqdm/auto.py:22: TqdmWarning: IProgress not found. Please update jupyter and ipywidgets. See https://ipywidgets.readthedocs.io/en/stable/user_install.html\n",
      "  from .autonotebook import tqdm as notebook_tqdm\n"
     ]
    },
    {
     "name": "stdout",
     "output_type": "stream",
     "text": [
      "time: 1.07 s (started: 2022-06-25 11:02:32 +01:00)\n"
     ]
    }
   ],
   "source": [
    "import argparse\n",
    "import torch\n",
    "import transformer.Constants as Constants\n",
    "\n",
    "import re\n",
    "import pandas as pd\n",
    "\n",
    "import numpy as np\n",
    "\n",
    "import matplotlib.pyplot as plt\n",
    "import seaborn as sns\n",
    "\n",
    "from rdkit import Chem\n",
    "\n",
    "import tqdm as t\n",
    "sns.set()"
   ]
  },
  {
   "cell_type": "code",
   "execution_count": 3,
   "id": "664b22e0-0a0f-4817-97be-16acf3e3da17",
   "metadata": {},
   "outputs": [
    {
     "name": "stdout",
     "output_type": "stream",
     "text": [
      "time: 988 µs (started: 2022-06-25 11:02:33 +01:00)\n"
     ]
    }
   ],
   "source": [
    "from typing import List\n",
    "\n",
    "SMI_REGEX_PATTERN = r\"(\\%\\([0-9]{3}\\)|\\[[^\\]]+]|Br?|Cl?|N|O|S|P|F|I|b|c|n|o|s|p|\\||\\(|\\)|\\.|=|#|-|\\+|\\\\|\\/|:|~|@|\\?|>>?|\\*|\\$|\\%[0-9]{2}|[0-9]|\\n)\"\n",
    "\n",
    "class RegexTokenizer:\n",
    "    \"\"\"Run regex tokenization\"\"\"\n",
    "\n",
    "    def __init__(self, regex_pattern: str = SMI_REGEX_PATTERN) -> None:\n",
    "        \"\"\"Constructs a RegexTokenizer.\n",
    "        Args:\n",
    "            regex_pattern: regex pattern used for tokenization.\n",
    "            suffix: optional suffix for the tokens. Defaults to \"\".\n",
    "        \"\"\"\n",
    "        self.regex_pattern = regex_pattern\n",
    "        self.regex = re.compile(self.regex_pattern)\n",
    "\n",
    "    def tokenize(self, text: str, bos_token=Constants.BOS_WORD, eos_token=Constants.EOS_WORD) -> List[str]:\n",
    "        \"\"\"Regex tokenization.\n",
    "        Args:\n",
    "            text: text to tokenize.\n",
    "        Returns:\n",
    "            extracted tokens separated by spaces.\n",
    "        \"\"\"\n",
    "        tokens = [token for token in self.regex.findall(text)]\n",
    "        tokens = [bos_token] + tokens + [eos_token]\n",
    "        return tokens\n",
    "    \n",
    "tokenizer = RegexTokenizer()"
   ]
  },
  {
   "cell_type": "code",
   "execution_count": 4,
   "id": "a63157fc-ca94-45e4-96c9-54464aa1639d",
   "metadata": {},
   "outputs": [
    {
     "name": "stdout",
     "output_type": "stream",
     "text": [
      "time: 4.06 ms (started: 2022-06-25 11:02:33 +01:00)\n"
     ]
    }
   ],
   "source": [
    "def build_mapping(smiles_lst):\n",
    "    tokens = [tokenizer.tokenize(smi) for smi in smiles_lst]\n",
    "    unique_tokens, unique_counts = np.unique(np.concatenate(tokens), return_counts=True)\n",
    "    unique_tokens.size\n",
    "\n",
    "    token2idx = {}\n",
    "\n",
    "    for i, (t, c) in enumerate(zip(unique_tokens,unique_counts)):\n",
    "        if c <= 5:\n",
    "            continue\n",
    "        else:\n",
    "            token2idx[t] = i\n",
    "\n",
    "    special_tokens = [Constants.BOS_WORD, Constants.EOS_WORD, Constants.PAD_WORD, Constants.UNK_WORD]\n",
    "    for t in special_tokens:\n",
    "        token2idx[t] = token2idx.get(t, len(token2idx))\n",
    "        \n",
    "    return token2idx"
   ]
  },
  {
   "cell_type": "code",
   "execution_count": 5,
   "id": "08e7fdad-d849-4a79-8857-6fd52f1b4c77",
   "metadata": {},
   "outputs": [
    {
     "data": {
      "text/plain": [
       "44"
      ]
     },
     "execution_count": 5,
     "metadata": {},
     "output_type": "execute_result"
    },
    {
     "name": "stdout",
     "output_type": "stream",
     "text": [
      "time: 3.32 s (started: 2022-06-25 11:02:33 +01:00)\n"
     ]
    }
   ],
   "source": [
    "chembl = pd.read_csv('../transformer/data/chembl_30/chembl_30_chemreps_proc_train.csv.gz').sample(100000)\n",
    "smiles = chembl.SMILES.values\n",
    "\n",
    "token2idx = build_mapping(smiles)\n",
    "idx2token = {i: token for token, i in token2idx.items()}\n",
    "len(token2idx)"
   ]
  },
  {
   "cell_type": "markdown",
   "id": "d1672a9b-0925-4371-a86e-1e5a560b038b",
   "metadata": {},
   "source": [
    "## Build package"
   ]
  },
  {
   "cell_type": "code",
   "execution_count": 6,
   "id": "fd9e4236-c493-4e2d-b53a-ba755b1a9197",
   "metadata": {},
   "outputs": [
    {
     "name": "stdout",
     "output_type": "stream",
     "text": [
      "time: 287 µs (started: 2022-06-25 11:02:37 +01:00)\n"
     ]
    }
   ],
   "source": [
    "def dense_onehot(tokens, token2idx=token2idx):\n",
    "    ''' Mapping words to idx sequence. '''\n",
    "    return [token2idx.get(w, token2idx[Constants.UNK_WORD]) for w in tokens]"
   ]
  },
  {
   "cell_type": "code",
   "execution_count": 7,
   "id": "fc0a3df0-c844-42e4-8cae-1ee75235c977",
   "metadata": {},
   "outputs": [
    {
     "name": "stdout",
     "output_type": "stream",
     "text": [
      "time: 1.73 s (started: 2022-06-25 11:02:37 +01:00)\n"
     ]
    }
   ],
   "source": [
    "chembl = pd.read_csv('../transformer/data/chembl_30/chembl_30_chemreps_proc_train.csv.gz').sample(100000, random_state=123)\n",
    "train_smiles = chembl.SMILES.to_list()\n",
    "\n",
    "chembl = pd.read_csv('../transformer/data/chembl_30/chembl_30_chemreps_proc_valid.csv.gz').sample(5000, random_state=123)\n",
    "val_smiles = chembl.SMILES.to_list()"
   ]
  },
  {
   "cell_type": "code",
   "execution_count": 8,
   "id": "2ab9f033-ecd2-487e-9439-8ed5848dd919",
   "metadata": {},
   "outputs": [
    {
     "name": "stderr",
     "output_type": "stream",
     "text": [
      "100%|██████████| 100000/100000 [00:15<00:00, 6338.72it/s]\n",
      "100%|██████████| 5000/5000 [00:00<00:00, 6322.74it/s]\n"
     ]
    },
    {
     "data": {
      "text/plain": [
       "(199815, 9992)"
      ]
     },
     "execution_count": 8,
     "metadata": {},
     "output_type": "execute_result"
    },
    {
     "name": "stdout",
     "output_type": "stream",
     "text": [
      "time: 16.6 s (started: 2022-06-25 11:02:38 +01:00)\n"
     ]
    }
   ],
   "source": [
    "train_smiles_aug = [Chem.MolToSmiles(Chem.MolFromSmiles(smi), canonical=False, doRandom=True) for smi in t.tqdm(train_smiles)]\n",
    "train_smiles = list(set(train_smiles + train_smiles_aug))\n",
    "\n",
    "val_smiles_aug = [Chem.MolToSmiles(Chem.MolFromSmiles(smi), canonical=False, doRandom=True) for smi in t.tqdm(val_smiles)]\n",
    "val_smiles = list(set(val_smiles + val_smiles_aug))\n",
    "\n",
    "len(train_smiles), len(val_smiles)"
   ]
  },
  {
   "cell_type": "code",
   "execution_count": 9,
   "id": "7c75c6d0-e7ca-4853-998c-2ad7172ebbca",
   "metadata": {},
   "outputs": [
    {
     "name": "stdout",
     "output_type": "stream",
     "text": [
      "time: 2.7 s (started: 2022-06-25 11:02:55 +01:00)\n"
     ]
    }
   ],
   "source": [
    "train_tokens = [tokenizer.tokenize(smi) for smi in train_smiles]\n",
    "val_tokens   = [tokenizer.tokenize(smi) for smi in val_smiles]\n",
    "\n",
    "train_onehot = [dense_onehot(t) for t in train_tokens]\n",
    "val_onehot   = [dense_onehot(t) for t in val_tokens]"
   ]
  },
  {
   "cell_type": "markdown",
   "id": "5ecca5a4-b47c-4143-bed6-015b16f5120c",
   "metadata": {},
   "source": [
    "# Train"
   ]
  },
  {
   "cell_type": "code",
   "execution_count": 10,
   "id": "f2fcf125-e87d-4f6d-ac42-dc88e1820e8d",
   "metadata": {},
   "outputs": [
    {
     "data": {
      "text/plain": [
       "device(type='cuda')"
      ]
     },
     "execution_count": 10,
     "metadata": {},
     "output_type": "execute_result"
    },
    {
     "name": "stdout",
     "output_type": "stream",
     "text": [
      "time: 53.3 ms (started: 2022-06-25 11:02:58 +01:00)\n"
     ]
    }
   ],
   "source": [
    "import torch.utils.data\n",
    "from transformer.Models import Transformer\n",
    "from transformer.Optim import ScheduledOptim\n",
    "from dataset import SeqDataset, paired_collate_fn\n",
    "\n",
    "import math\n",
    "import trainer\n",
    "from trainer import train\n",
    "import importlib as il\n",
    "il.reload(trainer)\n",
    "\n",
    "device = torch.device('cuda') if torch.cuda.is_available() else torch.device('cpu')\n",
    "device"
   ]
  },
  {
   "cell_type": "code",
   "execution_count": 11,
   "id": "e8246734-b393-4e3e-92a9-ad318ba98ef1",
   "metadata": {},
   "outputs": [
    {
     "name": "stdout",
     "output_type": "stream",
     "text": [
      "time: 693 µs (started: 2022-06-25 11:02:58 +01:00)\n"
     ]
    }
   ],
   "source": [
    "train_loader = torch.utils.data.DataLoader(\n",
    "    SeqDataset(\n",
    "        src_word2idx=token2idx,\n",
    "        tgt_word2idx=token2idx,\n",
    "        src_insts=train_onehot,\n",
    "        tgt_insts=train_onehot),\n",
    "    num_workers=10,\n",
    "    batch_size=64,\n",
    "    collate_fn=paired_collate_fn,\n",
    "    shuffle=True)\n",
    "\n",
    "val_loader = torch.utils.data.DataLoader(\n",
    "    SeqDataset(\n",
    "        src_word2idx=token2idx,\n",
    "        tgt_word2idx=token2idx,\n",
    "        src_insts=val_onehot,\n",
    "        tgt_insts=val_onehot),\n",
    "    num_workers=10,\n",
    "    batch_size=64,\n",
    "    collate_fn=paired_collate_fn,\n",
    "    shuffle=True)"
   ]
  },
  {
   "cell_type": "code",
   "execution_count": 12,
   "id": "1ce1fc5b-dd2d-4b3c-87cb-2fd81e8e8fde",
   "metadata": {},
   "outputs": [
    {
     "name": "stdout",
     "output_type": "stream",
     "text": [
      "time: 1.62 s (started: 2022-06-25 11:02:58 +01:00)\n"
     ]
    }
   ],
   "source": [
    "transformer = Transformer(\n",
    "    n_src_vocab=len(token2idx),\n",
    "    n_tgt_vocab=len(token2idx),\n",
    "    len_max_seq=100,\n",
    "    d_word_vec=512, d_model=512, d_inner=2048,\n",
    "    n_layers=6, n_head=8,\n",
    "    d_k=64, d_v=64,\n",
    "    dropout=0.1, \n",
    "    tgt_emb_prj_weight_sharing=True,\n",
    "    emb_src_tgt_weight_sharing=True\n",
    "    ).to(device)"
   ]
  },
  {
   "cell_type": "code",
   "execution_count": 13,
   "id": "e56faee1-917d-4a07-beb6-3ce6476239b9",
   "metadata": {},
   "outputs": [
    {
     "name": "stdout",
     "output_type": "stream",
     "text": [
      "time: 928 µs (started: 2022-06-25 11:02:59 +01:00)\n"
     ]
    }
   ],
   "source": [
    "optimizer = ScheduledOptim(\n",
    "    torch.optim.Adam(\n",
    "        filter(lambda x: x.requires_grad, transformer.parameters()),\n",
    "        betas=(0.9, 0.98), eps=1e-09),\n",
    "    512, 4000)"
   ]
  },
  {
   "cell_type": "markdown",
   "id": "e1f12383-636b-4159-9eb5-74f389138046",
   "metadata": {},
   "source": [
    "### Evaluation with untrained model"
   ]
  },
  {
   "cell_type": "code",
   "execution_count": 14,
   "id": "a9dfe59c-92fb-4c87-bc81-ac6293e160ff",
   "metadata": {},
   "outputs": [
    {
     "name": "stderr",
     "output_type": "stream",
     "text": [
      "                                                                    "
     ]
    },
    {
     "name": "stdout",
     "output_type": "stream",
     "text": [
      "  - (Validation) ppl:  1.00141, accuracy: 1.076 %\n",
      "time: 17.9 s (started: 2022-06-25 11:02:59 +01:00)\n"
     ]
    },
    {
     "name": "stderr",
     "output_type": "stream",
     "text": [
      "\r"
     ]
    }
   ],
   "source": [
    "val_loss, val_acc = trainer.eval_epoch(transformer, val_loader, device)\n",
    "print('  - (Validation) ppl: {ppl: 8.5f}, accuracy: {accu:3.3f} %'.format(\n",
    "    ppl=math.exp(min(val_loss, 100)), accu=100*val_acc))"
   ]
  },
  {
   "cell_type": "markdown",
   "id": "0254cffb-2b27-4c36-a0fc-aa52eb7e5283",
   "metadata": {},
   "source": [
    "# Train"
   ]
  },
  {
   "cell_type": "code",
   "execution_count": 15,
   "id": "9988628c-8470-4801-95d4-c98160826e34",
   "metadata": {},
   "outputs": [
    {
     "name": "stdout",
     "output_type": "stream",
     "text": [
      "[Info] Training performance will be written to file: ./log//train.log and ./log//valid.log\n",
      "[ Epoch 0 ]\n"
     ]
    },
    {
     "name": "stderr",
     "output_type": "stream",
     "text": [
      "                                                                      \r"
     ]
    },
    {
     "name": "stdout",
     "output_type": "stream",
     "text": [
      "  - (Training)   ppl:  1.00034, accuracy: 63.802 %, time: 18.492 min\n"
     ]
    },
    {
     "name": "stderr",
     "output_type": "stream",
     "text": [
      "                                                                    \r"
     ]
    },
    {
     "name": "stdout",
     "output_type": "stream",
     "text": [
      "  - (Validation) ppl:  1.00024, accuracy: 73.765 %, time: 0.296 min\n",
      "    - [Info] The checkpoint file has been updated.\n",
      "[ Epoch 1 ]\n"
     ]
    },
    {
     "name": "stderr",
     "output_type": "stream",
     "text": [
      "                                                                      \r"
     ]
    },
    {
     "name": "stdout",
     "output_type": "stream",
     "text": [
      "  - (Training)   ppl:  1.00018, accuracy: 79.580 %, time: 18.442 min\n"
     ]
    },
    {
     "name": "stderr",
     "output_type": "stream",
     "text": [
      "                                                                    \r"
     ]
    },
    {
     "name": "stdout",
     "output_type": "stream",
     "text": [
      "  - (Validation) ppl:  1.00014, accuracy: 84.526 %, time: 0.297 min\n",
      "    - [Info] The checkpoint file has been updated.\n",
      "[ Epoch 2 ]\n"
     ]
    },
    {
     "name": "stderr",
     "output_type": "stream",
     "text": [
      "                                                                      \r"
     ]
    },
    {
     "name": "stdout",
     "output_type": "stream",
     "text": [
      "  - (Training)   ppl:  1.00012, accuracy: 86.742 %, time: 18.513 min\n"
     ]
    },
    {
     "name": "stderr",
     "output_type": "stream",
     "text": [
      "                                                                    \r"
     ]
    },
    {
     "name": "stdout",
     "output_type": "stream",
     "text": [
      "  - (Validation) ppl:  1.00009, accuracy: 89.591 %, time: 0.297 min\n",
      "    - [Info] The checkpoint file has been updated.\n",
      "[ Epoch 3 ]\n"
     ]
    },
    {
     "name": "stderr",
     "output_type": "stream",
     "text": [
      "                                                                      \r"
     ]
    },
    {
     "name": "stdout",
     "output_type": "stream",
     "text": [
      "  - (Training)   ppl:  1.00009, accuracy: 90.152 %, time: 18.495 min\n"
     ]
    },
    {
     "name": "stderr",
     "output_type": "stream",
     "text": [
      "                                                                    \r"
     ]
    },
    {
     "name": "stdout",
     "output_type": "stream",
     "text": [
      "  - (Validation) ppl:  1.00007, accuracy: 91.821 %, time: 0.296 min\n",
      "    - [Info] The checkpoint file has been updated.\n",
      "[ Epoch 4 ]\n"
     ]
    },
    {
     "name": "stderr",
     "output_type": "stream",
     "text": [
      "                                                                      \r"
     ]
    },
    {
     "name": "stdout",
     "output_type": "stream",
     "text": [
      "  - (Training)   ppl:  1.00007, accuracy: 92.145 %, time: 18.488 min\n"
     ]
    },
    {
     "name": "stderr",
     "output_type": "stream",
     "text": [
      "                                                                    \r"
     ]
    },
    {
     "name": "stdout",
     "output_type": "stream",
     "text": [
      "  - (Validation) ppl:  1.00006, accuracy: 93.173 %, time: 0.295 min\n",
      "    - [Info] The checkpoint file has been updated.\n",
      "[ Epoch 5 ]\n"
     ]
    },
    {
     "name": "stderr",
     "output_type": "stream",
     "text": [
      "                                                                      \r"
     ]
    },
    {
     "name": "stdout",
     "output_type": "stream",
     "text": [
      "  - (Training)   ppl:  1.00006, accuracy: 93.446 %, time: 18.503 min\n"
     ]
    },
    {
     "name": "stderr",
     "output_type": "stream",
     "text": [
      "                                                                    \r"
     ]
    },
    {
     "name": "stdout",
     "output_type": "stream",
     "text": [
      "  - (Validation) ppl:  1.00005, accuracy: 94.110 %, time: 0.297 min\n",
      "    - [Info] The checkpoint file has been updated.\n",
      "[ Epoch 6 ]\n"
     ]
    },
    {
     "name": "stderr",
     "output_type": "stream",
     "text": [
      "                                                                      \r"
     ]
    },
    {
     "name": "stdout",
     "output_type": "stream",
     "text": [
      "  - (Training)   ppl:  1.00005, accuracy: 94.340 %, time: 18.499 min\n"
     ]
    },
    {
     "name": "stderr",
     "output_type": "stream",
     "text": [
      "                                                                    \r"
     ]
    },
    {
     "name": "stdout",
     "output_type": "stream",
     "text": [
      "  - (Validation) ppl:  1.00005, accuracy: 94.416 %, time: 0.297 min\n",
      "    - [Info] The checkpoint file has been updated.\n",
      "[ Epoch 7 ]\n"
     ]
    },
    {
     "name": "stderr",
     "output_type": "stream",
     "text": [
      "                                                                      \r"
     ]
    },
    {
     "name": "stdout",
     "output_type": "stream",
     "text": [
      "  - (Training)   ppl:  1.00004, accuracy: 95.074 %, time: 18.520 min\n"
     ]
    },
    {
     "name": "stderr",
     "output_type": "stream",
     "text": [
      "                                                                    \r"
     ]
    },
    {
     "name": "stdout",
     "output_type": "stream",
     "text": [
      "  - (Validation) ppl:  1.00005, accuracy: 94.985 %, time: 0.296 min\n",
      "    - [Info] The checkpoint file has been updated.\n",
      "[ Epoch 8 ]\n"
     ]
    },
    {
     "name": "stderr",
     "output_type": "stream",
     "text": [
      "                                                                      \r"
     ]
    },
    {
     "name": "stdout",
     "output_type": "stream",
     "text": [
      "  - (Training)   ppl:  1.00004, accuracy: 95.610 %, time: 18.515 min\n"
     ]
    },
    {
     "name": "stderr",
     "output_type": "stream",
     "text": [
      "                                                                    \r"
     ]
    },
    {
     "name": "stdout",
     "output_type": "stream",
     "text": [
      "  - (Validation) ppl:  1.00005, accuracy: 95.104 %, time: 0.297 min\n",
      "    - [Info] The checkpoint file has been updated.\n",
      "[ Epoch 9 ]\n"
     ]
    },
    {
     "name": "stderr",
     "output_type": "stream",
     "text": [
      "                                                                      \r"
     ]
    },
    {
     "name": "stdout",
     "output_type": "stream",
     "text": [
      "  - (Training)   ppl:  1.00004, accuracy: 96.036 %, time: 18.491 min\n"
     ]
    },
    {
     "name": "stderr",
     "output_type": "stream",
     "text": [
      "                                                                    "
     ]
    },
    {
     "name": "stdout",
     "output_type": "stream",
     "text": [
      "  - (Validation) ppl:  1.00005, accuracy: 94.954 %, time: 0.296 min\n",
      "time: 3h 8min (started: 2022-06-25 11:03:17 +01:00)\n"
     ]
    },
    {
     "name": "stderr",
     "output_type": "stream",
     "text": [
      "\r"
     ]
    }
   ],
   "source": [
    "train(transformer, train_loader, val_loader, optimizer, device, n_epochs=10)"
   ]
  },
  {
   "cell_type": "markdown",
   "id": "3b71fc57-31fc-4ce0-a2d6-008c1f09d01a",
   "metadata": {},
   "source": [
    "# Evaluate"
   ]
  },
  {
   "cell_type": "code",
   "execution_count": 16,
   "id": "a0b84967-5516-419c-87f6-9de4fdf84981",
   "metadata": {},
   "outputs": [
    {
     "name": "stdout",
     "output_type": "stream",
     "text": [
      "time: 380 µs (started: 2022-06-25 14:11:17 +01:00)\n"
     ]
    }
   ],
   "source": [
    "from rdkit import Chem, RDLogger\n",
    "from rdkit.Chem import Draw\n",
    "import tqdm as t\n",
    "RDLogger.DisableLog('rdApp.*')"
   ]
  },
  {
   "cell_type": "code",
   "execution_count": 17,
   "id": "b33841ab-0a99-49a7-ba8a-1857a963ed0e",
   "metadata": {},
   "outputs": [
    {
     "name": "stdout",
     "output_type": "stream",
     "text": [
      "time: 6.42 ms (started: 2022-06-25 14:11:17 +01:00)\n"
     ]
    }
   ],
   "source": [
    "_ = transformer.eval()"
   ]
  },
  {
   "cell_type": "code",
   "execution_count": 18,
   "id": "bde704e0-e4fd-499e-a6c8-b3afab50da28",
   "metadata": {},
   "outputs": [
    {
     "name": "stdout",
     "output_type": "stream",
     "text": [
      "time: 601 µs (started: 2022-06-25 14:11:17 +01:00)\n"
     ]
    }
   ],
   "source": [
    "def output2smiles(output: torch.Tensor, token2idx=token2idx, drop_first: int=1):\n",
    "    \n",
    "    eos_idx = token2idx[Constants.EOS_WORD]\n",
    "    \n",
    "    batch_smi = []\n",
    "    for entry in output:\n",
    "        entry_tokens = []\n",
    "        \n",
    "        for val in entry[drop_first:]:\n",
    "            if val == eos_idx:\n",
    "                break\n",
    "            else:\n",
    "                entry_tokens.append(idx2token[val])\n",
    "        batch_smi.append(''.join(entry_tokens))\n",
    "    return batch_smi"
   ]
  },
  {
   "cell_type": "code",
   "execution_count": 19,
   "id": "0327255a-d26e-4d75-97c9-9d84955ed01a",
   "metadata": {},
   "outputs": [
    {
     "name": "stderr",
     "output_type": "stream",
     "text": [
      "100%|██████████| 157/157 [00:18<00:00,  8.72it/s]"
     ]
    },
    {
     "name": "stdout",
     "output_type": "stream",
     "text": [
      "time: 18 s (started: 2022-06-25 14:11:17 +01:00)\n"
     ]
    },
    {
     "name": "stderr",
     "output_type": "stream",
     "text": [
      "\n"
     ]
    }
   ],
   "source": [
    "output_smi = []\n",
    "\n",
    "for batch in t.tqdm(val_loader):\n",
    "    src_seq, src_pos, tgt_seq, tgt_pos = map(lambda x: x.to(device), batch)\n",
    "    gold = tgt_seq[:, 1:]\n",
    "    \n",
    "    with torch.no_grad():\n",
    "        pred = transformer(src_seq, src_pos, tgt_seq, tgt_pos).cpu().detach()\n",
    "        pred = pred.max(1)[1].reshape(gold.shape).numpy()\n",
    "\n",
    "    output_smi = output_smi + output2smiles(pred, drop_first=0)"
   ]
  },
  {
   "cell_type": "code",
   "execution_count": 24,
   "id": "91ab7fbf-061a-4b79-a8f1-daf5d1ee5c77",
   "metadata": {},
   "outputs": [
    {
     "name": "stdout",
     "output_type": "stream",
     "text": [
      "3541/9992 (35.44 %)\n",
      "time: 689 ms (started: 2022-06-25 14:29:14 +01:00)\n"
     ]
    }
   ],
   "source": [
    "output_mol = list(map(Chem.MolFromSmiles,output_smi))\n",
    "output_mol_valid = list(filter(None, output_mol))\n",
    "\n",
    "fraction_valid = len(output_mol_valid)/len(output_mol)\n",
    "\n",
    "msg = f'{len(output_mol_valid)}/{len(output_mol)} ({fraction_valid*100:.2f} %)'\n",
    "print(msg)\n",
    "!echo \"{msg}\" > performance.txt"
   ]
  },
  {
   "cell_type": "code",
   "execution_count": 25,
   "id": "91849893-5eb6-4f9e-85e8-94b742797d57",
   "metadata": {},
   "outputs": [
    {
     "data": {
      "image/png": "[encoded data removed]",
      "text/plain": [
       "<IPython.core.display.Image object>"
      ]
     },
     "execution_count": 25,
     "metadata": {},
     "output_type": "execute_result"
    },
    {
     "name": "stdout",
     "output_type": "stream",
     "text": [
      "time: 50.4 ms (started: 2022-06-25 14:29:18 +01:00)\n"
     ]
    }
   ],
   "source": [
    "Draw.MolsToGridImage(\n",
    "    np.random.choice(output_mol_valid, 24, replace=False),\n",
    "    molsPerRow=8\n",
    ")"
   ]
  },
  {
   "cell_type": "code",
   "execution_count": null,
   "id": "b118028a-4a9c-4616-938c-1a79f93a7b6e",
   "metadata": {},
   "outputs": [],
   "source": []
  }
 ],
 "metadata": {
  "kernelspec": {
   "display_name": "Python 3 (ipykernel)",
   "language": "python",
   "name": "python3"
  },
  "language_info": {
   "codemirror_mode": {
    "name": "ipython",
    "version": 3
   },
   "file_extension": ".py",
   "mimetype": "text/x-python",
   "name": "python",
   "nbconvert_exporter": "python",
   "pygments_lexer": "ipython3",
   "version": "3.8.13"
  }
 },
 "nbformat": 4,
 "nbformat_minor": 5
}
